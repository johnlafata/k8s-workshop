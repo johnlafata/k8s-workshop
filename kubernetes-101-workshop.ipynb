{
 "cells": [
  {
   "cell_type": "markdown",
   "id": "9597897c",
   "metadata": {},
   "source": [
    "# Kubernetes 101 Hands-on Workshop\n",
    "\n",
    "This comprehensive workshop is designed to help you get started with Kubernetes, understand its basic constructs, and perform hands-on operations.\n",
    "\n",
    "## Workshop Overview\n",
    "\n",
    "1. **Setting up Kubernetes**\n",
    "2. **Understanding Kubernetes Architecture**\n",
    "3. **Zero to One - Quick Start**\n",
    "4. **Basic Kubernetes Constructs**\n",
    "5. **Configuration Management**\n",
    "6. **Services and Networking**\n",
    "7. **Advanced Topics**\n",
    "\n",
    "**Prerequisites:**\n",
    "- Basic understanding of containers and Docker\n",
    "- Access to a Kubernetes cluster (minikube, Docker Desktop, or cloud provider)\n",
    "- kubectl CLI tool installed"
   ]
  },
  {
   "cell_type": "markdown",
   "id": "72e693ec",
   "metadata": {},
   "source": [
    "## 1. Setting up Kubernetes\n",
    "\n",
    "Choose one of the following options for your Kubernetes cluster:\n",
    "\n",
    "1. **Docker for Desktop** with Kubernetes enabled\n",
    "2. **Minikube**\n",
    "3. **Cloud Provider** (GKE, EKS, AKS)\n",
    "\n",
    "### Installing Minikube\n",
    "\n",
    "#### macOS\n",
    "```bash\n",
    "brew install minikube\n",
    "```\n",
    "\n",
    "#### Linux\n",
    "```bash\n",
    "curl -LO https://storage.googleapis.com/minikube/releases/latest/minikube-linux-amd64 \\\n",
    "  && sudo install minikube-linux-amd64 /usr/local/bin/minikube\n",
    "```\n",
    "\n",
    "#### Windows\n",
    "Follow the [official installation guide](https://kubernetes.io/docs/tasks/tools/install-kubectl-windows/)\n",
    "\n",
    "### Installing kubectl\n",
    "Follow the [kubectl installation guide](https://kubernetes.io/docs/tasks/tools/install-kubectl)"
   ]
  },
  {
   "cell_type": "code",
   "execution_count": null,
   "id": "8af7f31b",
   "metadata": {},
   "outputs": [],
   "source": [
    "# Verify your Kubernetes installation\n",
    "!kubectl version --client\n",
    "!kubectl cluster-info"
   ]
  },
  {
   "cell_type": "markdown",
   "id": "000fd7a0",
   "metadata": {},
   "source": [
    "## 2. Kubernetes Architecture\n",
    "\n",
    "Kubernetes follows a master-worker architecture:\n",
    "\n",
    "### Master Components (Control Plane)\n",
    "- **API Server**: Entry point for all REST commands\n",
    "- **etcd**: Distributed key-value store\n",
    "- **Controller Manager**: Runs controller processes\n",
    "- **Scheduler**: Assigns pods to nodes\n",
    "\n",
    "### Worker Node Components\n",
    "- **kubelet**: Agent that communicates with master\n",
    "- **kube-proxy**: Network proxy\n",
    "- **Container Runtime**: Docker, containerd, etc.\n",
    "\n",
    "### Kubernetes Capabilities\n",
    "- **Service Discovery & Load Balancing**\n",
    "- **Storage Orchestration**\n",
    "- **Automated Rollouts & Rollbacks**\n",
    "- **Self-healing**\n",
    "- **Secret & Configuration Management**\n",
    "- **Horizontal Scaling**"
   ]
  },
  {
   "cell_type": "code",
   "execution_count": null,
   "id": "e6deb71c",
   "metadata": {},
   "outputs": [],
   "source": [
    "# Explore your cluster\n",
    "!kubectl get nodes\n",
    "!kubectl get nodes -o wide"
   ]
  },
  {
   "cell_type": "markdown",
   "id": "dfe52e1b",
   "metadata": {},
   "source": [
    "## 3. Zero to One - Quick Start\n",
    "\n",
    "### Deploy Nginx in 60 seconds"
   ]
  },
  {
   "cell_type": "code",
   "execution_count": null,
   "id": "136fb5f7",
   "metadata": {},
   "outputs": [],
   "source": [
    "# Create a simple nginx deployment\n",
    "!kubectl create deployment nginx --image=nginx\n",
    "\n",
    "# Check the deployment\n",
    "!kubectl get deployments\n",
    "!kubectl get pods"
   ]
  },
  {
   "cell_type": "code",
   "execution_count": null,
   "id": "56ca5602",
   "metadata": {},
   "outputs": [],
   "source": [
    "# Expose the deployment as a service\n",
    "!kubectl expose deployment nginx --port=80 --type=LoadBalancer\n",
    "\n",
    "# Check the service\n",
    "!kubectl get services"
   ]
  },
  {
   "cell_type": "code",
   "execution_count": null,
   "id": "82d66e26",
   "metadata": {},
   "outputs": [],
   "source": [
    "# Clean up\n",
    "!kubectl delete service nginx\n",
    "!kubectl delete deployment nginx"
   ]
  },
  {
   "cell_type": "markdown",
   "id": "5d5f65d0",
   "metadata": {},
   "source": [
    "## 4. Basic Kubernetes Constructs\n",
    "\n",
    "### 4.1 Pods - The Basic Building Block\n",
    "\n",
    "- Smallest deployable unit in Kubernetes\n",
    "- Group of containers that share network and storage\n",
    "- Usually contains a single container\n",
    "- Pods are ephemeral - they can die anytime!"
   ]
  },
  {
   "cell_type": "code",
   "execution_count": null,
   "id": "5575022f",
   "metadata": {},
   "outputs": [],
   "source": [
    "# Create a simple pod using kubectl run\n",
    "!kubectl run my-pod --image=nginx --restart=Never\n",
    "\n",
    "# Check the pod\n",
    "!kubectl get pods\n",
    "!kubectl describe pod my-pod"
   ]
  },
  {
   "cell_type": "markdown",
   "id": "d00e2c40",
   "metadata": {},
   "source": [
    "#### Pod YAML Definition\n",
    "\n",
    "Let's create a pod using a YAML manifest:"
   ]
  },
  {
   "cell_type": "code",
   "execution_count": null,
   "id": "c3740673",
   "metadata": {},
   "outputs": [],
   "source": [
    "# Create a pod YAML file\n",
    "pod_yaml = \"\"\"\n",
    "apiVersion: v1\n",
    "kind: Pod\n",
    "metadata:\n",
    "  name: nginx-pod\n",
    "  labels:\n",
    "    app: nginx\n",
    "spec:\n",
    "  containers:\n",
    "  - name: nginx\n",
    "    image: nginx:1.20\n",
    "    ports:\n",
    "    - containerPort: 80\n",
    "\"\"\"\n",
    "\n",
    "# Write to file\n",
    "with open('nginx-pod.yaml', 'w') as f:\n",
    "    f.write(pod_yaml)\n",
    "\n",
    "print(\"Pod YAML created!\")"
   ]
  },
  {
   "cell_type": "code",
   "execution_count": null,
   "id": "4f82702c",
   "metadata": {},
   "outputs": [],
   "source": [
    "# Apply the pod manifest\n",
    "!kubectl apply -f nginx-pod.yaml\n",
    "\n",
    "# Check the pod\n",
    "!kubectl get pods -l app=nginx"
   ]
  },
  {
   "cell_type": "code",
   "execution_count": null,
   "id": "7eb12483",
   "metadata": {},
   "outputs": [],
   "source": [
    "# Get detailed information about the pod\n",
    "!kubectl describe pod nginx-pod"
   ]
  },
  {
   "cell_type": "code",
   "execution_count": null,
   "id": "29a9aab2",
   "metadata": {},
   "outputs": [],
   "source": [
    "# Access the pod logs\n",
    "!kubectl logs nginx-pod"
   ]
  },
  {
   "cell_type": "code",
   "execution_count": null,
   "id": "f9d219df",
   "metadata": {},
   "outputs": [],
   "source": [
    "# Execute commands inside the pod\n",
    "!kubectl exec nginx-pod -- ls -la /usr/share/nginx/html"
   ]
  },
  {
   "cell_type": "markdown",
   "id": "a988cec2",
   "metadata": {},
   "source": [
    "### 4.2 ReplicaSets\n",
    "\n",
    "ReplicaSets ensure that a specified number of pod replicas are running at any given time."
   ]
  },
  {
   "cell_type": "code",
   "execution_count": null,
   "id": "e2d31d01",
   "metadata": {},
   "outputs": [],
   "source": [
    "# Create a ReplicaSet YAML\n",
    "replicaset_yaml = \"\"\"\n",
    "apiVersion: apps/v1\n",
    "kind: ReplicaSet\n",
    "metadata:\n",
    "  name: nginx-replicaset\n",
    "  labels:\n",
    "    app: nginx\n",
    "spec:\n",
    "  replicas: 3\n",
    "  selector:\n",
    "    matchLabels:\n",
    "      app: nginx\n",
    "  template:\n",
    "    metadata:\n",
    "      labels:\n",
    "        app: nginx\n",
    "    spec:\n",
    "      containers:\n",
    "      - name: nginx\n",
    "        image: nginx:1.20\n",
    "        ports:\n",
    "        - containerPort: 80\n",
    "\"\"\"\n",
    "\n",
    "with open('nginx-replicaset.yaml', 'w') as f:\n",
    "    f.write(replicaset_yaml)\n",
    "\n",
    "print(\"ReplicaSet YAML created!\")"
   ]
  },
  {
   "cell_type": "code",
   "execution_count": null,
   "id": "283ed141",
   "metadata": {},
   "outputs": [],
   "source": [
    "# Apply the ReplicaSet\n",
    "!kubectl apply -f nginx-replicaset.yaml\n",
    "\n",
    "# Check ReplicaSets and Pods\n",
    "!kubectl get replicasets\n",
    "!kubectl get pods -l app=nginx"
   ]
  },
  {
   "cell_type": "code",
   "execution_count": null,
   "id": "6e34b075",
   "metadata": {},
   "outputs": [],
   "source": [
    "# Test self-healing: delete a pod and watch it get recreated\n",
    "!kubectl delete pod $(kubectl get pods -l app=nginx -o jsonpath='{.items[0].metadata.name}')\n",
    "\n",
    "# Check pods again\n",
    "!kubectl get pods -l app=nginx"
   ]
  },
  {
   "cell_type": "markdown",
   "id": "2ca7d763",
   "metadata": {},
   "source": [
    "### 4.3 Deployments\n",
    "\n",
    "Deployments provide declarative updates for Pods and ReplicaSets. They manage rolling updates and rollbacks."
   ]
  },
  {
   "cell_type": "code",
   "execution_count": null,
   "id": "f3649a05",
   "metadata": {},
   "outputs": [],
   "source": [
    "# Create a Deployment YAML\n",
    "deployment_yaml = \"\"\"\n",
    "apiVersion: apps/v1\n",
    "kind: Deployment\n",
    "metadata:\n",
    "  name: nginx-deployment\n",
    "  labels:\n",
    "    app: nginx\n",
    "spec:\n",
    "  replicas: 3\n",
    "  selector:\n",
    "    matchLabels:\n",
    "      app: nginx\n",
    "  template:\n",
    "    metadata:\n",
    "      labels:\n",
    "        app: nginx\n",
    "    spec:\n",
    "      containers:\n",
    "      - name: nginx\n",
    "        image: nginx:1.20\n",
    "        ports:\n",
    "        - containerPort: 80\n",
    "\"\"\"\n",
    "\n",
    "with open('nginx-deployment.yaml', 'w') as f:\n",
    "    f.write(deployment_yaml)\n",
    "\n",
    "print(\"Deployment YAML created!\")"
   ]
  },
  {
   "cell_type": "code",
   "execution_count": null,
   "id": "2d3d8923",
   "metadata": {},
   "outputs": [],
   "source": [
    "# Clean up previous resources first\n",
    "!kubectl delete -f nginx-replicaset.yaml --ignore-not-found\n",
    "!kubectl delete pod nginx-pod --ignore-not-found\n",
    "!kubectl delete pod my-pod --ignore-not-found"
   ]
  },
  {
   "cell_type": "code",
   "execution_count": null,
   "id": "5e556cc8",
   "metadata": {},
   "outputs": [],
   "source": [
    "# Apply the Deployment\n",
    "!kubectl apply -f nginx-deployment.yaml\n",
    "\n",
    "# Check Deployments, ReplicaSets, and Pods\n",
    "!kubectl get deployments\n",
    "!kubectl get replicasets\n",
    "!kubectl get pods"
   ]
  },
  {
   "cell_type": "code",
   "execution_count": null,
   "id": "e970145a",
   "metadata": {},
   "outputs": [],
   "source": [
    "# Perform a rolling update\n",
    "!kubectl set image deployment/nginx-deployment nginx=nginx:1.21\n",
    "\n",
    "# Watch the rollout\n",
    "!kubectl rollout status deployment/nginx-deployment"
   ]
  },
  {
   "cell_type": "code",
   "execution_count": null,
   "id": "2f231062",
   "metadata": {},
   "outputs": [],
   "source": [
    "# Check rollout history\n",
    "!kubectl rollout history deployment/nginx-deployment"
   ]
  },
  {
   "cell_type": "code",
   "execution_count": null,
   "id": "6a60f59d",
   "metadata": {},
   "outputs": [],
   "source": [
    "# Rollback to previous version\n",
    "!kubectl rollout undo deployment/nginx-deployment\n",
    "\n",
    "# Check the rollout status\n",
    "!kubectl rollout status deployment/nginx-deployment"
   ]
  },
  {
   "cell_type": "markdown",
   "id": "00c458a7",
   "metadata": {},
   "source": [
    "### 4.4 Services\n",
    "\n",
    "Services provide stable network endpoints for accessing pods. They enable service discovery and load balancing."
   ]
  },
  {
   "cell_type": "code",
   "execution_count": null,
   "id": "215085a7",
   "metadata": {},
   "outputs": [],
   "source": [
    "# Create a Service YAML\n",
    "service_yaml = \"\"\"\n",
    "apiVersion: v1\n",
    "kind: Service\n",
    "metadata:\n",
    "  name: nginx-service\n",
    "spec:\n",
    "  selector:\n",
    "    app: nginx\n",
    "  ports:\n",
    "    - protocol: TCP\n",
    "      port: 80\n",
    "      targetPort: 80\n",
    "  type: ClusterIP\n",
    "\"\"\"\n",
    "\n",
    "with open('nginx-service.yaml', 'w') as f:\n",
    "    f.write(service_yaml)\n",
    "\n",
    "print(\"Service YAML created!\")"
   ]
  },
  {
   "cell_type": "code",
   "execution_count": null,
   "id": "797c87f5",
   "metadata": {},
   "outputs": [],
   "source": [
    "# Apply the Service\n",
    "!kubectl apply -f nginx-service.yaml\n",
    "\n",
    "# Check the service\n",
    "!kubectl get services\n",
    "!kubectl describe service nginx-service"
   ]
  },
  {
   "cell_type": "code",
   "execution_count": null,
   "id": "8fa3f76d",
   "metadata": {},
   "outputs": [],
   "source": [
    "# Test the service from inside the cluster\n",
    "!kubectl run test-pod --image=curlimages/curl --rm -it --restart=Never -- curl nginx-service"
   ]
  },
  {
   "cell_type": "markdown",
   "id": "1a7323df",
   "metadata": {},
   "source": [
    "## 5. Configuration Management\n",
    "\n",
    "### 5.1 ConfigMaps\n",
    "\n",
    "ConfigMaps store configuration data as key-value pairs."
   ]
  },
  {
   "cell_type": "code",
   "execution_count": null,
   "id": "bbc2aeec",
   "metadata": {},
   "outputs": [],
   "source": [
    "# Create a ConfigMap from command line\n",
    "!kubectl create configmap app-config --from-literal=database_url=postgresql://localhost:5432/myapp --from-literal=debug=true\n",
    "\n",
    "# Check the ConfigMap\n",
    "!kubectl get configmaps\n",
    "!kubectl describe configmap app-config"
   ]
  },
  {
   "cell_type": "code",
   "execution_count": null,
   "id": "fdec1794",
   "metadata": {},
   "outputs": [],
   "source": [
    "# Create a ConfigMap YAML\n",
    "configmap_yaml = \"\"\"\n",
    "apiVersion: v1\n",
    "kind: ConfigMap\n",
    "metadata:\n",
    "  name: nginx-config\n",
    "data:\n",
    "  nginx.conf: |\n",
    "    events {\n",
    "        worker_connections 1024;\n",
    "    }\n",
    "    http {\n",
    "        server {\n",
    "            listen 80;\n",
    "            location / {\n",
    "                return 200 'Hello from ConfigMap!';\n",
    "                add_header Content-Type text/plain;\n",
    "            }\n",
    "        }\n",
    "    }\n",
    "\"\"\"\n",
    "\n",
    "with open('nginx-configmap.yaml', 'w') as f:\n",
    "    f.write(configmap_yaml)\n",
    "\n",
    "!kubectl apply -f nginx-configmap.yaml"
   ]
  },
  {
   "cell_type": "markdown",
   "id": "fcd31a23",
   "metadata": {},
   "source": [
    "### 5.2 Secrets\n",
    "\n",
    "Secrets store sensitive data such as passwords, OAuth tokens, and SSH keys."
   ]
  },
  {
   "cell_type": "code",
   "execution_count": null,
   "id": "addfbc61",
   "metadata": {},
   "outputs": [],
   "source": [
    "# Create a Secret\n",
    "!kubectl create secret generic app-secret --from-literal=username=admin --from-literal=password=supersecret\n",
    "\n",
    "# Check the Secret\n",
    "!kubectl get secrets\n",
    "!kubectl describe secret app-secret"
   ]
  },
  {
   "cell_type": "markdown",
   "id": "3e57132e",
   "metadata": {},
   "source": [
    "## 6. Advanced Workload Types\n",
    "\n",
    "### 6.1 DaemonSets\n",
    "\n",
    "DaemonSets ensure that a copy of a Pod runs on all (or some) nodes in the cluster."
   ]
  },
  {
   "cell_type": "code",
   "execution_count": null,
   "id": "f4a37469",
   "metadata": {},
   "outputs": [],
   "source": [
    "# Create a DaemonSet YAML\n",
    "daemonset_yaml = \"\"\"\n",
    "apiVersion: apps/v1\n",
    "kind: DaemonSet\n",
    "metadata:\n",
    "  name: fluentd-daemonset\n",
    "spec:\n",
    "  selector:\n",
    "    matchLabels:\n",
    "      name: fluentd\n",
    "  template:\n",
    "    metadata:\n",
    "      labels:\n",
    "        name: fluentd\n",
    "    spec:\n",
    "      containers:\n",
    "      - name: fluentd\n",
    "        image: fluentd:v1.14-1\n",
    "        resources:\n",
    "          limits:\n",
    "            memory: 200Mi\n",
    "          requests:\n",
    "            cpu: 100m\n",
    "            memory: 200Mi\n",
    "\"\"\"\n",
    "\n",
    "with open('fluentd-daemonset.yaml', 'w') as f:\n",
    "    f.write(daemonset_yaml)\n",
    "\n",
    "print(\"DaemonSet YAML created!\")"
   ]
  },
  {
   "cell_type": "markdown",
   "id": "ecb71d16",
   "metadata": {},
   "source": [
    "### 6.2 Jobs\n",
    "\n",
    "Jobs run pods to completion for batch workloads."
   ]
  },
  {
   "cell_type": "code",
   "execution_count": null,
   "id": "1195188f",
   "metadata": {},
   "outputs": [],
   "source": [
    "# Create a Job YAML\n",
    "job_yaml = \"\"\"\n",
    "apiVersion: batch/v1\n",
    "kind: Job\n",
    "metadata:\n",
    "  name: pi-calculation\n",
    "spec:\n",
    "  template:\n",
    "    spec:\n",
    "      containers:\n",
    "      - name: pi\n",
    "        image: perl:5.34.0\n",
    "        command: [\"perl\", \"-Mbignum=bpi\", \"-wle\", \"print bpi(2000)\"]\n",
    "      restartPolicy: Never\n",
    "  backoffLimit: 4\n",
    "\"\"\"\n",
    "\n",
    "with open('pi-job.yaml', 'w') as f:\n",
    "    f.write(job_yaml)\n",
    "\n",
    "# Apply and run the job\n",
    "!kubectl apply -f pi-job.yaml\n",
    "\n",
    "# Check the job\n",
    "!kubectl get jobs\n",
    "!kubectl get pods"
   ]
  },
  {
   "cell_type": "code",
   "execution_count": null,
   "id": "c936f704",
   "metadata": {},
   "outputs": [],
   "source": [
    "# Check job logs\n",
    "import time\n",
    "time.sleep(10)  # Wait for job to complete\n",
    "!kubectl logs -l job-name=pi-calculation"
   ]
  },
  {
   "cell_type": "markdown",
   "id": "9ef3076a",
   "metadata": {},
   "source": [
    "## 7. Useful kubectl Commands\n",
    "\n",
    "Here are some essential kubectl commands for daily operations:"
   ]
  },
  {
   "cell_type": "code",
   "execution_count": null,
   "id": "852e8fce",
   "metadata": {},
   "outputs": [],
   "source": [
    "# Get all resources in current namespace\n",
    "!kubectl get all\n",
    "\n",
    "# Get resources across all namespaces\n",
    "!kubectl get pods --all-namespaces\n",
    "\n",
    "# Get resource with more details\n",
    "!kubectl get pods -o wide\n",
    "\n",
    "# Get resource in YAML format\n",
    "!kubectl get deployment nginx-deployment -o yaml"
   ]
  },
  {
   "cell_type": "code",
   "execution_count": null,
   "id": "cfe29992",
   "metadata": {},
   "outputs": [],
   "source": [
    "# Resource usage\n",
    "!kubectl top nodes 2>/dev/null || echo \"Metrics server not available\"\n",
    "!kubectl top pods 2>/dev/null || echo \"Metrics server not available\""
   ]
  },
  {
   "cell_type": "markdown",
   "id": "e6098dd8",
   "metadata": {},
   "source": [
    "## 8. Cleanup\n",
    "\n",
    "Let's clean up all the resources we created during this workshop:"
   ]
  },
  {
   "cell_type": "code",
   "execution_count": null,
   "id": "5a795212",
   "metadata": {},
   "outputs": [],
   "source": [
    "# Delete all created resources\n",
    "!kubectl delete -f nginx-deployment.yaml --ignore-not-found\n",
    "!kubectl delete -f nginx-service.yaml --ignore-not-found\n",
    "!kubectl delete -f nginx-configmap.yaml --ignore-not-found\n",
    "!kubectl delete -f pi-job.yaml --ignore-not-found\n",
    "!kubectl delete configmap app-config --ignore-not-found\n",
    "!kubectl delete secret app-secret --ignore-not-found\n",
    "\n",
    "# Clean up YAML files\n",
    "import os\n",
    "yaml_files = ['nginx-pod.yaml', 'nginx-replicaset.yaml', 'nginx-deployment.yaml', \n",
    "              'nginx-service.yaml', 'nginx-configmap.yaml', 'fluentd-daemonset.yaml', 'pi-job.yaml']\n",
    "\n",
    "for file in yaml_files:\n",
    "    if os.path.exists(file):\n",
    "        os.remove(file)\n",
    "        print(f\"Removed {file}\")\n",
    "\n",
    "print(\"\\nCleanup completed!\")"
   ]
  },
  {
   "cell_type": "markdown",
   "id": "75266f55",
   "metadata": {},
   "source": [
    "## 9. Next Steps\n",
    "\n",
    "Congratulations! You've completed the Kubernetes 101 workshop. Here are some next steps to continue your Kubernetes journey:\n",
    "\n",
    "### Additional Topics to Explore:\n",
    "- **Namespaces**: Organize resources and provide isolation\n",
    "- **Persistent Volumes**: Manage storage for stateful applications\n",
    "- **StatefulSets**: Deploy stateful applications\n",
    "- **Ingress Controllers**: Manage external access to services\n",
    "- **Network Policies**: Control network traffic between pods\n",
    "- **RBAC**: Role-based access control\n",
    "- **Helm**: Package manager for Kubernetes\n",
    "- **Monitoring & Logging**: Prometheus, Grafana, ELK stack\n",
    "- **CI/CD**: GitOps with ArgoCD or Flux\n",
    "\n",
    "### Recommended Resources:\n",
    "- [Kubernetes Official Documentation](https://kubernetes.io/docs/)\n",
    "- [Kubernetes the Hard Way](https://github.com/kelseyhightower/kubernetes-the-hard-way)\n",
    "- [CNCF Landscape](https://landscape.cncf.io/)\n",
    "- [Kubernetes Slack Community](https://kubernetes.slack.com/)\n",
    "\n",
    "### Practice Environments:\n",
    "- [Katacoda Kubernetes Scenarios](https://www.katacoda.com/courses/kubernetes)\n",
    "- [Play with Kubernetes](https://labs.play-with-k8s.com/)\n",
    "- [Google Cloud Shell](https://shell.cloud.google.com/)"
   ]
  }
 ],
 "metadata": {
  "language_info": {
   "name": "python"
  }
 },
 "nbformat": 4,
 "nbformat_minor": 5
}
